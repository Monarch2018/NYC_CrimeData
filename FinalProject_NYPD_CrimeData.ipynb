{
 "cells": [
  {
   "cell_type": "markdown",
   "metadata": {},
   "source": [
    "### Load dataset"
   ]
  },
  {
   "cell_type": "code",
   "execution_count": 2,
   "metadata": {},
   "outputs": [
    {
     "data": {
      "text/html": [
       "<div>\n",
       "<style scoped>\n",
       "    .dataframe tbody tr th:only-of-type {\n",
       "        vertical-align: middle;\n",
       "    }\n",
       "\n",
       "    .dataframe tbody tr th {\n",
       "        vertical-align: top;\n",
       "    }\n",
       "\n",
       "    .dataframe thead th {\n",
       "        text-align: right;\n",
       "    }\n",
       "</style>\n",
       "<table border=\"1\" class=\"dataframe\">\n",
       "  <thead>\n",
       "    <tr style=\"text-align: right;\">\n",
       "      <th></th>\n",
       "      <th>CRM_ATPT_CPTD_CD</th>\n",
       "      <th>LAW_CAT_CD</th>\n",
       "      <th>OFNS_DESC</th>\n",
       "      <th>PD_DESC</th>\n",
       "      <th>PREM_TYP_DESC</th>\n",
       "      <th>SUSP_AGE_GROUP</th>\n",
       "      <th>SUSP_RACE</th>\n",
       "      <th>SUSP_SEX</th>\n",
       "      <th>VIC_AGE_GROUP</th>\n",
       "      <th>VIC_RACE</th>\n",
       "      <th>VIC_SEX</th>\n",
       "    </tr>\n",
       "  </thead>\n",
       "  <tbody>\n",
       "    <tr>\n",
       "      <th>0</th>\n",
       "      <td>COMPLETED</td>\n",
       "      <td>MISDEMEANOR</td>\n",
       "      <td>OFF. AGNST PUB ORD SENSBLTY &amp;</td>\n",
       "      <td>AGGRAVATED HARASSMENT 2</td>\n",
       "      <td>RESIDENCE-HOUSE</td>\n",
       "      <td>25-44</td>\n",
       "      <td>BLACK</td>\n",
       "      <td>M</td>\n",
       "      <td>18-24</td>\n",
       "      <td>BLACK</td>\n",
       "      <td>F</td>\n",
       "    </tr>\n",
       "    <tr>\n",
       "      <th>1</th>\n",
       "      <td>COMPLETED</td>\n",
       "      <td>VIOLATION</td>\n",
       "      <td>HARRASSMENT 2</td>\n",
       "      <td>HARASSMENT,SUBD 3,4,5</td>\n",
       "      <td>RESIDENCE - PUBLIC HOUSING</td>\n",
       "      <td>45-64</td>\n",
       "      <td>WHITE HISPANIC</td>\n",
       "      <td>F</td>\n",
       "      <td>25-44</td>\n",
       "      <td>BLACK</td>\n",
       "      <td>F</td>\n",
       "    </tr>\n",
       "    <tr>\n",
       "      <th>2</th>\n",
       "      <td>COMPLETED</td>\n",
       "      <td>FELONY</td>\n",
       "      <td>CRIMINAL MISCHIEF &amp; RELATED OF</td>\n",
       "      <td>MISCHIEF,CRIMINAL,    UNCL 2ND</td>\n",
       "      <td>RESIDENCE - PUBLIC HOUSING</td>\n",
       "      <td>25-44</td>\n",
       "      <td>BLACK</td>\n",
       "      <td>M</td>\n",
       "      <td>25-44</td>\n",
       "      <td>BLACK</td>\n",
       "      <td>F</td>\n",
       "    </tr>\n",
       "    <tr>\n",
       "      <th>3</th>\n",
       "      <td>COMPLETED</td>\n",
       "      <td>VIOLATION</td>\n",
       "      <td>HARRASSMENT 2</td>\n",
       "      <td>HARASSMENT,SUBD 3,4,5</td>\n",
       "      <td>RESIDENCE - APT. HOUSE</td>\n",
       "      <td>25-44</td>\n",
       "      <td>WHITE HISPANIC</td>\n",
       "      <td>M</td>\n",
       "      <td>25-44</td>\n",
       "      <td>ASIAN/PAC.ISL</td>\n",
       "      <td>M</td>\n",
       "    </tr>\n",
       "    <tr>\n",
       "      <th>4</th>\n",
       "      <td>COMPLETED</td>\n",
       "      <td>VIOLATION</td>\n",
       "      <td>HARRASSMENT 2</td>\n",
       "      <td>HARASSMENT,SUBD 3,4,5</td>\n",
       "      <td>RESIDENCE-HOUSE</td>\n",
       "      <td>25-44</td>\n",
       "      <td>BLACK</td>\n",
       "      <td>F</td>\n",
       "      <td>18-24</td>\n",
       "      <td>BLACK</td>\n",
       "      <td>F</td>\n",
       "    </tr>\n",
       "  </tbody>\n",
       "</table>\n",
       "</div>"
      ],
      "text/plain": [
       "  CRM_ATPT_CPTD_CD   LAW_CAT_CD                       OFNS_DESC  \\\n",
       "0        COMPLETED  MISDEMEANOR   OFF. AGNST PUB ORD SENSBLTY &   \n",
       "1        COMPLETED    VIOLATION                   HARRASSMENT 2   \n",
       "2        COMPLETED       FELONY  CRIMINAL MISCHIEF & RELATED OF   \n",
       "3        COMPLETED    VIOLATION                   HARRASSMENT 2   \n",
       "4        COMPLETED    VIOLATION                   HARRASSMENT 2   \n",
       "\n",
       "                          PD_DESC               PREM_TYP_DESC SUSP_AGE_GROUP  \\\n",
       "0         AGGRAVATED HARASSMENT 2             RESIDENCE-HOUSE          25-44   \n",
       "1           HARASSMENT,SUBD 3,4,5  RESIDENCE - PUBLIC HOUSING          45-64   \n",
       "2  MISCHIEF,CRIMINAL,    UNCL 2ND  RESIDENCE - PUBLIC HOUSING          25-44   \n",
       "3           HARASSMENT,SUBD 3,4,5      RESIDENCE - APT. HOUSE          25-44   \n",
       "4           HARASSMENT,SUBD 3,4,5             RESIDENCE-HOUSE          25-44   \n",
       "\n",
       "        SUSP_RACE SUSP_SEX VIC_AGE_GROUP       VIC_RACE VIC_SEX  \n",
       "0           BLACK        M         18-24          BLACK       F  \n",
       "1  WHITE HISPANIC        F         25-44          BLACK       F  \n",
       "2           BLACK        M         25-44          BLACK       F  \n",
       "3  WHITE HISPANIC        M         25-44  ASIAN/PAC.ISL       M  \n",
       "4           BLACK        F         18-24          BLACK       F  "
      ]
     },
     "execution_count": 2,
     "metadata": {},
     "output_type": "execute_result"
    }
   ],
   "source": [
    "import pandas as pd\n",
    "\n",
    "# Load the data\n",
    "df = pd.read_csv('NYPD_Complaint_Data_COMPLETE_DATA_ONLY_2.csv')\n",
    "\n",
    "df.head()"
   ]
  },
  {
   "cell_type": "markdown",
   "metadata": {},
   "source": [
    "### Remove rows with missing value"
   ]
  },
  {
   "cell_type": "code",
   "execution_count": 3,
   "metadata": {},
   "outputs": [
    {
     "name": "stdout",
     "output_type": "stream",
     "text": [
      "Number of rows before removing rows with missing values: 31710\n",
      "Number of rows after removing rows with missing values: 31585\n"
     ]
    }
   ],
   "source": [
    "import numpy as np\n",
    "\n",
    "print('Number of rows before removing rows with missing values: ' + str(df.shape[0]))\n",
    "\n",
    "# Remove rows with np.NaN\n",
    "df.dropna(how='any', inplace=True)\n",
    "\n",
    "print('Number of rows after removing rows with missing values: ' + str(df.shape[0]))"
   ]
  },
  {
   "cell_type": "markdown",
   "metadata": {},
   "source": [
    "### Get the feature and target vector"
   ]
  },
  {
   "cell_type": "code",
   "execution_count": 4,
   "metadata": {},
   "outputs": [
    {
     "name": "stdout",
     "output_type": "stream",
     "text": [
      "(31585, 10)\n",
      "(31585,)\n"
     ]
    }
   ],
   "source": [
    "# Get the feature vector\n",
    "X = df.drop('CRM_ATPT_CPTD_CD', axis = 1)\n",
    "\n",
    "# Get the target vector\n",
    "y = df['CRM_ATPT_CPTD_CD']\n",
    "\n",
    "print(X.shape)\n",
    "print(y.shape)"
   ]
  },
  {
   "cell_type": "code",
   "execution_count": 5,
   "metadata": {},
   "outputs": [],
   "source": [
    "from sklearn.preprocessing import LabelEncoder\n",
    "\n",
    "le = LabelEncoder()\n",
    "y = le.fit_transform(y)\n"
   ]
  },
  {
   "cell_type": "code",
   "execution_count": 6,
   "metadata": {},
   "outputs": [],
   "source": [
    "class MultiColumnLabelEncoder:\n",
    "    def __init__(self,columns = None):\n",
    "        self.columns = columns # array of column names to encode\n",
    "\n",
    "    def fit(self,X,y=None):\n",
    "        return self # not relevant here\n",
    "\n",
    "    def transform(self,X):\n",
    "        '''\n",
    "        Transforms columns of X specified in self.columns using\n",
    "        LabelEncoder(). If no columns specified, transforms all\n",
    "        columns in X.\n",
    "        '''\n",
    "        output = X.copy()\n",
    "        if self.columns is not None:\n",
    "            for col in self.columns:\n",
    "                output[col] = LabelEncoder().fit_transform(output[col])\n",
    "        else:\n",
    "            for colname,col in output.iteritems():\n",
    "                output[colname] = LabelEncoder().fit_transform(col)\n",
    "        return output\n",
    "\n",
    "    def fit_transform(self,X,y=None):\n",
    "        return self.fit(X,y).transform(X)\n"
   ]
  },
  {
   "cell_type": "code",
   "execution_count": 7,
   "metadata": {},
   "outputs": [],
   "source": [
    "X = MultiColumnLabelEncoder(columns = ['LAW_CAT_CD','OFNS_DESC','PD_DESC', 'PREM_TYP_DESC', 'SUSP_AGE_GROUP', 'SUSP_RACE', 'SUSP_SEX', 'VIC_AGE_GROUP', 'VIC_RACE', 'VIC_SEX']).fit_transform(X)"
   ]
  },
  {
   "cell_type": "code",
   "execution_count": 13,
   "metadata": {},
   "outputs": [
    {
     "name": "stdout",
     "output_type": "stream",
     "text": [
      "(array([0, 1]), array([  345, 21764]))\n",
      "(array([0, 1]), array([ 148, 9328]))\n"
     ]
    }
   ],
   "source": [
    "from sklearn.model_selection import train_test_split\n",
    "\n",
    "# Randomly choose 30% of the data for testing (set randome_state as 0 and stratify as y)\n",
    "X_train, X_test, y_train, y_test = train_test_split(X, y, test_size=0.3, random_state=0, stratify=y)\n",
    "print(np.unique(y_train, return_counts=True))\n",
    "print(np.unique(y_test, return_counts=True))"
   ]
  },
  {
   "cell_type": "code",
   "execution_count": 10,
   "metadata": {},
   "outputs": [
    {
     "name": "stdout",
     "output_type": "stream",
     "text": [
      "Accuracy of Model: 0.984381595609962\n"
     ]
    }
   ],
   "source": [
    "from sklearn.linear_model import LogisticRegression\n",
    "\n",
    "sklearn_lr = LogisticRegression()\n",
    "\n",
    "sklearn_lr.fit(X_train, y_train)\n",
    "\n",
    "print('Accuracy of Model: ' + str(sklearn_lr.score(X_test, y_test)))"
   ]
  },
  {
   "cell_type": "code",
   "execution_count": null,
   "metadata": {},
   "outputs": [],
   "source": []
  }
 ],
 "metadata": {
  "kernelspec": {
   "display_name": "Python 3",
   "language": "python",
   "name": "python3"
  },
  "language_info": {
   "codemirror_mode": {
    "name": "ipython",
    "version": 3
   },
   "file_extension": ".py",
   "mimetype": "text/x-python",
   "name": "python",
   "nbconvert_exporter": "python",
   "pygments_lexer": "ipython3",
   "version": "3.6.5"
  }
 },
 "nbformat": 4,
 "nbformat_minor": 2
}
