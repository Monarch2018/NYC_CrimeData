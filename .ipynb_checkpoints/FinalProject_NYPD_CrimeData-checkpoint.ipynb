{
 "cells": [
  {
   "cell_type": "markdown",
   "metadata": {},
   "source": [
    "# **Predicting “Successful” Criminal Activity in New York City**"
   ]
  },
  {
   "cell_type": "markdown",
   "metadata": {},
   "source": [
    "Classification model that predicts whether a crime in NYC will be “successful” or “unsuccessful.”"
   ]
  },
  {
   "cell_type": "markdown",
   "metadata": {},
   "source": [
    "## **1. Load dataset**"
   ]
  },
  {
   "cell_type": "code",
   "execution_count": 34,
   "metadata": {},
   "outputs": [],
   "source": [
    "import pandas as pd\n",
    "\n",
    "pd.set_option('display.max_columns', 50)\n",
    "\n",
    "df = pd.read_csv('NYPD_Complaint_Data_Current_YTD.csv')"
   ]
  },
  {
   "cell_type": "markdown",
   "metadata": {},
   "source": [
    "## **2. Data prepocessing**"
   ]
  },
  {
   "cell_type": "markdown",
   "metadata": {},
   "source": [
    "### Remove unnecessary columns"
   ]
  },
  {
   "cell_type": "code",
   "execution_count": 35,
   "metadata": {},
   "outputs": [
    {
     "data": {
      "text/html": [
       "<div>\n",
       "<style scoped>\n",
       "    .dataframe tbody tr th:only-of-type {\n",
       "        vertical-align: middle;\n",
       "    }\n",
       "\n",
       "    .dataframe tbody tr th {\n",
       "        vertical-align: top;\n",
       "    }\n",
       "\n",
       "    .dataframe thead th {\n",
       "        text-align: right;\n",
       "    }\n",
       "</style>\n",
       "<table border=\"1\" class=\"dataframe\">\n",
       "  <thead>\n",
       "    <tr style=\"text-align: right;\">\n",
       "      <th></th>\n",
       "      <th>CRM_ATPT_CPTD_CD</th>\n",
       "      <th>LAW_CAT_CD</th>\n",
       "      <th>OFNS_DESC</th>\n",
       "      <th>PD_DESC</th>\n",
       "      <th>PREM_TYP_DESC</th>\n",
       "      <th>SUSP_AGE_GROUP</th>\n",
       "      <th>SUSP_RACE</th>\n",
       "      <th>SUSP_SEX</th>\n",
       "      <th>VIC_AGE_GROUP</th>\n",
       "      <th>VIC_RACE</th>\n",
       "      <th>VIC_SEX</th>\n",
       "    </tr>\n",
       "  </thead>\n",
       "  <tbody>\n",
       "    <tr>\n",
       "      <th>0</th>\n",
       "      <td>COMPLETED</td>\n",
       "      <td>MISDEMEANOR</td>\n",
       "      <td>DANGEROUS WEAPONS</td>\n",
       "      <td>WEAPONS, POSSESSION, ETC</td>\n",
       "      <td>STREET</td>\n",
       "      <td>NaN</td>\n",
       "      <td>NaN</td>\n",
       "      <td>NaN</td>\n",
       "      <td>UNKNOWN</td>\n",
       "      <td>UNKNOWN</td>\n",
       "      <td>E</td>\n",
       "    </tr>\n",
       "    <tr>\n",
       "      <th>1</th>\n",
       "      <td>COMPLETED</td>\n",
       "      <td>FELONY</td>\n",
       "      <td>RAPE</td>\n",
       "      <td>RAPE 2</td>\n",
       "      <td>RESIDENCE - PUBLIC HOUSING</td>\n",
       "      <td>18-24</td>\n",
       "      <td>UNKNOWN</td>\n",
       "      <td>M</td>\n",
       "      <td>&lt;18</td>\n",
       "      <td>BLACK</td>\n",
       "      <td>F</td>\n",
       "    </tr>\n",
       "    <tr>\n",
       "      <th>2</th>\n",
       "      <td>COMPLETED</td>\n",
       "      <td>MISDEMEANOR</td>\n",
       "      <td>OFF. AGNST PUB ORD SENSBLTY &amp;</td>\n",
       "      <td>AGGRAVATED HARASSMENT 2</td>\n",
       "      <td>RESIDENCE-HOUSE</td>\n",
       "      <td>25-44</td>\n",
       "      <td>BLACK</td>\n",
       "      <td>M</td>\n",
       "      <td>18-24</td>\n",
       "      <td>BLACK</td>\n",
       "      <td>F</td>\n",
       "    </tr>\n",
       "    <tr>\n",
       "      <th>3</th>\n",
       "      <td>COMPLETED</td>\n",
       "      <td>FELONY</td>\n",
       "      <td>ROBBERY</td>\n",
       "      <td>ROBBERY,DELIVERY PERSON</td>\n",
       "      <td>RESIDENCE - APT. HOUSE</td>\n",
       "      <td>UNKNOWN</td>\n",
       "      <td>WHITE HISPANIC</td>\n",
       "      <td>M</td>\n",
       "      <td>25-44</td>\n",
       "      <td>WHITE HISPANIC</td>\n",
       "      <td>M</td>\n",
       "    </tr>\n",
       "    <tr>\n",
       "      <th>4</th>\n",
       "      <td>COMPLETED</td>\n",
       "      <td>VIOLATION</td>\n",
       "      <td>HARRASSMENT 2</td>\n",
       "      <td>HARASSMENT,SUBD 3,4,5</td>\n",
       "      <td>RESIDENCE - PUBLIC HOUSING</td>\n",
       "      <td>45-64</td>\n",
       "      <td>WHITE HISPANIC</td>\n",
       "      <td>F</td>\n",
       "      <td>25-44</td>\n",
       "      <td>BLACK</td>\n",
       "      <td>F</td>\n",
       "    </tr>\n",
       "  </tbody>\n",
       "</table>\n",
       "</div>"
      ],
      "text/plain": [
       "  CRM_ATPT_CPTD_CD   LAW_CAT_CD                      OFNS_DESC  \\\n",
       "0        COMPLETED  MISDEMEANOR              DANGEROUS WEAPONS   \n",
       "1        COMPLETED       FELONY                           RAPE   \n",
       "2        COMPLETED  MISDEMEANOR  OFF. AGNST PUB ORD SENSBLTY &   \n",
       "3        COMPLETED       FELONY                        ROBBERY   \n",
       "4        COMPLETED    VIOLATION                  HARRASSMENT 2   \n",
       "\n",
       "                    PD_DESC               PREM_TYP_DESC SUSP_AGE_GROUP  \\\n",
       "0  WEAPONS, POSSESSION, ETC                      STREET            NaN   \n",
       "1                    RAPE 2  RESIDENCE - PUBLIC HOUSING          18-24   \n",
       "2   AGGRAVATED HARASSMENT 2             RESIDENCE-HOUSE          25-44   \n",
       "3   ROBBERY,DELIVERY PERSON      RESIDENCE - APT. HOUSE        UNKNOWN   \n",
       "4     HARASSMENT,SUBD 3,4,5  RESIDENCE - PUBLIC HOUSING          45-64   \n",
       "\n",
       "        SUSP_RACE SUSP_SEX VIC_AGE_GROUP        VIC_RACE VIC_SEX  \n",
       "0             NaN      NaN       UNKNOWN         UNKNOWN       E  \n",
       "1         UNKNOWN        M           <18           BLACK       F  \n",
       "2           BLACK        M         18-24           BLACK       F  \n",
       "3  WHITE HISPANIC        M         25-44  WHITE HISPANIC       M  \n",
       "4  WHITE HISPANIC        F         25-44           BLACK       F  "
      ]
     },
     "execution_count": 35,
     "metadata": {},
     "output_type": "execute_result"
    }
   ],
   "source": [
    "columns_remove = ['CMPLNT_NUM', 'ADDR_PCT_CD', 'BORO_NM', 'CMPLNT_FR_DT', 'CMPLNT_FR_TM', 'CMPLNT_TO_DT', \n",
    "                  'CMPLNT_TO_TM', 'HADEVELOPT', 'HOUSING_PSA', 'JURISDICTION_CODE', 'JURIS_DESC', 'KY_CD', \n",
    "                  'LOC_OF_OCCUR_DESC', 'PARKS_NM', 'PATROL_BORO', 'PD_CD', \n",
    "                  'RPT_DT', 'STATION_NAME', 'TRANSIT_DISTRICT', 'X_COORD_CD',\n",
    "                  'Y_COORD_CD', 'Latitude', 'Longitude', 'Lat_Lon']\n",
    "\n",
    "df = df.drop(columns_remove, axis=1)\n",
    "\n",
    "df.head()"
   ]
  },
  {
   "cell_type": "markdown",
   "metadata": {},
   "source": [
    "### Remove rows with null values"
   ]
  },
  {
   "cell_type": "code",
   "execution_count": 36,
   "metadata": {},
   "outputs": [
    {
     "name": "stdout",
     "output_type": "stream",
     "text": [
      "Number of rows before removing rows with missing values: 109543\n",
      "Number of rows after removing rows with missing values: 31597\n"
     ]
    }
   ],
   "source": [
    "import numpy as np\n",
    "\n",
    "# Replace UNKNOWN and erroneous values with nulls\n",
    "df.replace('UNKNOWN', np.NaN, inplace=True)\n",
    "df.replace('E', np.NaN, inplace=True)\n",
    "df.replace('D', np.NaN, inplace=True)\n",
    "df.replace('U', np.NaN, inplace=True)\n",
    "\n",
    "print('Number of rows before removing rows with missing values: ' + str(df.shape[0]))\n",
    "\n",
    "# Remove rows with null values\n",
    "df.dropna(axis=0, inplace=True)\n",
    "\n",
    "print('Number of rows after removing rows with missing values: ' + str(df.shape[0]))"
   ]
  },
  {
   "cell_type": "markdown",
   "metadata": {},
   "source": [
    "## **3. Get the feature and target vectors**"
   ]
  },
  {
   "cell_type": "code",
   "execution_count": 37,
   "metadata": {},
   "outputs": [
    {
     "name": "stdout",
     "output_type": "stream",
     "text": [
      "(31597, 10)\n",
      "(31597,)\n"
     ]
    }
   ],
   "source": [
    "# Get the feature vector\n",
    "X = df.drop('CRM_ATPT_CPTD_CD', axis = 1)\n",
    "\n",
    "# Get the target vector\n",
    "y = df['CRM_ATPT_CPTD_CD']\n",
    "\n",
    "print(X.shape)\n",
    "print(y.shape)"
   ]
  },
  {
   "cell_type": "markdown",
   "metadata": {},
   "source": [
    "## **4. Encoding**"
   ]
  },
  {
   "cell_type": "markdown",
   "metadata": {},
   "source": [
    "### Encode the target vector"
   ]
  },
  {
   "cell_type": "code",
   "execution_count": 38,
   "metadata": {},
   "outputs": [],
   "source": [
    "from sklearn.preprocessing import LabelEncoder\n",
    "\n",
    "le = LabelEncoder()\n",
    "y = le.fit_transform(y)"
   ]
  },
  {
   "cell_type": "markdown",
   "metadata": {},
   "source": [
    "### Define Multiple Columns Encoder"
   ]
  },
  {
   "cell_type": "code",
   "execution_count": 39,
   "metadata": {},
   "outputs": [],
   "source": [
    "class MultiColumnLabelEncoder:\n",
    "    \n",
    "    def __init__(self, columns=None):\n",
    "        # Array of column names to encode.\n",
    "        self.columns = columns\n",
    "\n",
    "    def fit(self, X):\n",
    "        return self\n",
    "\n",
    "    def transform(self, X):\n",
    "        # Transforms columns of X specified in self.columns using LabelEncoder(). \n",
    "        # If no columns specified, transforms all columns in X.\n",
    "        output = X.copy()\n",
    "        if self.columns is not None:\n",
    "            for col in self.columns:\n",
    "                output[col] = LabelEncoder().fit_transform(output[col])\n",
    "        else:\n",
    "            for colname, col in output.iteritems():\n",
    "                output[colname] = LabelEncoder().fit_transform(col)\n",
    "        return output\n",
    "\n",
    "    def fit_transform(self, X):\n",
    "        return self.fit(X).transform(X)"
   ]
  },
  {
   "cell_type": "markdown",
   "metadata": {},
   "source": [
    "### Encode the feature vector"
   ]
  },
  {
   "cell_type": "code",
   "execution_count": 40,
   "metadata": {},
   "outputs": [],
   "source": [
    "X = MultiColumnLabelEncoder().fit_transform(X)"
   ]
  },
  {
   "cell_type": "markdown",
   "metadata": {},
   "source": [
    "## **5. Divide data into training and testing sets**"
   ]
  },
  {
   "cell_type": "code",
   "execution_count": 41,
   "metadata": {
    "scrolled": true
   },
   "outputs": [
    {
     "name": "stdout",
     "output_type": "stream",
     "text": [
      "(array([0, 1]), array([  345, 21772]))\n",
      "(array([0, 1]), array([ 148, 9332]))\n"
     ]
    }
   ],
   "source": [
    "from sklearn.model_selection import train_test_split\n",
    "\n",
    "# Randomly choose 30% of the data for testing\n",
    "X_train, X_test, y_train, y_test = train_test_split(X, y, test_size=0.3, random_state=0, stratify=y)\n",
    "\n",
    "# Show the shape of the data\n",
    "print(np.unique(y_train, return_counts=True))\n",
    "print(np.unique(y_test, return_counts=True))"
   ]
  },
  {
   "cell_type": "markdown",
   "metadata": {},
   "source": [
    "## **6. Model Selection**"
   ]
  },
  {
   "cell_type": "code",
   "execution_count": null,
   "metadata": {},
   "outputs": [],
   "source": []
  },
  {
   "cell_type": "markdown",
   "metadata": {},
   "source": [
    "### SVC model and hyperparameter tuning "
   ]
  },
  {
   "cell_type": "code",
   "execution_count": null,
   "metadata": {},
   "outputs": [],
   "source": [
    "from sklearn.pipeline import Pipeline\n",
    "from sklearn.preprocessing import StandardScaler\n",
    "from sklearn.svm import SVC\n",
    "\n",
    "# The list of value for hyperparameter C (penalty parameter)\n",
    "Cs = [1, 10, 100]\n",
    "\n",
    "# The list of choice for hyperparameter kernel\n",
    "kernels = ['linear', 'rbf', 'sigmoid']\n",
    "\n",
    "# The list of [score, setting], where score is the score of the classifier and setting a pair of (C, kernel)\n",
    "score_settings = []\n",
    "\n",
    "# For each C\n",
    "for C in Cs:\n",
    "    # For each kernel\n",
    "    for kernel in kernels:\n",
    "        # Declare the classifier with hyperparameter C, kernel, class_weight, and random_state\n",
    "        clf = SVC(C = C, kernel = kernel, class_weight = 'balanced', random_state = 0)\n",
    "        \n",
    "        # The pipeline, with StandardScaler and clf defined above\n",
    "        # Implement me\n",
    "        pipe_clf = Pipeline([('StandardScaler',StandardScaler()),('clf',clf)])\n",
    "\n",
    "        # Fit the pipeline\n",
    "        pipe_clf.fit(X_train, y_train)\n",
    "        # Get the score (rounding to two decimal places)\n",
    "        score = round(pipe_clf.score(X_test, y_test), 2)\n",
    "        \n",
    "        # Get the setting, which is a pair of (C, kernel)\n",
    "        setting = [C, kernel]\n",
    "\n",
    "        # Append [score, setting] to score_settings\n",
    "        score_settings.append([score, setting])\n",
    "        \n",
    "# Sort score_settings in descending order of score\n",
    "score_settings = sorted(score_settings, key = lambda x: x[0], reverse= True)\n",
    "\n",
    "# Print score_settings\n",
    "print('The list of [score, setting] is:')\n",
    "for score_setting in score_settings:\n",
    "    print(score_setting)\n",
    "print()\n",
    "\n",
    "# Print the best setting\n",
    "print('The best setting is:')\n",
    "print('C: ' + str(score_settings[0][1][0]))\n",
    "print('kernel: ' + score_settings[0][1][1])"
   ]
  },
  {
   "cell_type": "markdown",
   "metadata": {},
   "source": [
    "### 6.2. Random Forest Classifier"
   ]
  },
  {
   "cell_type": "code",
   "execution_count": null,
   "metadata": {},
   "outputs": [],
   "source": [
    "from sklearn.metrics import precision_recall_fscore_support\n",
    "from sklearn.ensemble import RandomForestClassifier\n",
    "\n",
    "# Delcare the model\n",
    "rf = RandomForestClassifier(n_estimators=10, criterion='gini', max_depth=None, min_samples_split=2, min_samples_leaf=1, \n",
    "                            min_weight_fraction_leaf=0.0, max_features='auto', max_leaf_nodes=None, bootstrap=True, \n",
    "                            oob_score=False, n_jobs=3, random_state=None, verbose=0, warm_start=False,class_weight='balanced')\n",
    "\n",
    "# Train the model\n",
    "# Implement me\n",
    "rf.fit(X_train, y_train)\n",
    "y_pred_rf = rf.predict(X_test)\n",
    "# Print the classification accuracy\n",
    "print(precision_recall_fscore_support(y_pred_rf, y_test, average='micro')[0])"
   ]
  },
  {
   "cell_type": "markdown",
   "metadata": {},
   "source": [
    "### 6.3. SVC Claasifier"
   ]
  },
  {
   "cell_type": "code",
   "execution_count": null,
   "metadata": {},
   "outputs": [],
   "source": [
    "from sklearn.svm import SVC\n",
    "clf = SVC(C=100, kernel='rbf', class_weight='balanced', random_state=0)\n",
    "clf.fit(X_train, y_train)\n",
    "y_pred_clf = clf.predict(X_test)\n",
    "# Print the classification accuracy\n",
    "print(precision_recall_fscore_support(y_pred_clf, y_test, average='micro')[0])"
   ]
  },
  {
   "cell_type": "markdown",
   "metadata": {},
   "source": [
    "### 6.4. MLP Classifier "
   ]
  },
  {
   "cell_type": "code",
   "execution_count": null,
   "metadata": {},
   "outputs": [],
   "source": [
    "from sklearn.neural_network import MLPClassifier\n",
    "mlp = MLPClassifier(activation = 'logistic', hidden_layer_sizes=100, solver='adam', learning_rate = 'constant')\n",
    "mlp.fit(X_train, y_train)\n",
    "y_pred_mlp = mlp.predict(X_test)\n",
    "# Print the classification accuracy\n",
    "print(precision_recall_fscore_support(y_pred_mlp, y_test, average='micro')[0])"
   ]
  },
  {
   "cell_type": "markdown",
   "metadata": {},
   "source": [
    "### 6.5. DecisionTree Classifier"
   ]
  },
  {
   "cell_type": "code",
   "execution_count": null,
   "metadata": {},
   "outputs": [],
   "source": [
    "from sklearn.tree import DecisionTreeClassifier\n",
    "# Delcare the model\n",
    "dt = DecisionTreeClassifier(random_state=0, class_weight='balanced', min_samples_split = 2, min_samples_leaf = 1)\n",
    "\n",
    "# Train the model\n",
    "# Implement me\n",
    "dt.fit(X_train, y_train)\n",
    "y_pred_dt = dt.predict(X_test)\n",
    "# Print the classification accuracy\n",
    "print(precision_recall_fscore_support(y_pred_dt, y_test, average='micro')[0])"
   ]
  },
  {
   "cell_type": "markdown",
   "metadata": {},
   "source": [
    "### 6.6. Deep Neural Network with Keras"
   ]
  },
  {
   "cell_type": "code",
   "execution_count": null,
   "metadata": {},
   "outputs": [],
   "source": [
    "from keras.layers.core import Dense, Dropout\n",
    "from keras.preprocessing import sequence\n",
    "from keras.models import Sequential\n",
    "from keras.layers import Dense\n",
    "import numpy\n",
    "# fix random seed for reproducibility\n",
    "numpy.random.seed(7)\n",
    "# create model\n",
    "model = Sequential()\n",
    "model.add(Dense(12, input_dim=10, activation='relu'))\n",
    "model.add(Dense(8, activation='relu'))\n",
    "model.add(Dense(1, activation='sigmoid'))\n",
    "# Compile model\n",
    "model.compile(loss='binary_crossentropy', optimizer='adam', metrics=['accuracy'])\n",
    "# Fit the model\n",
    "model.fit(X_train, y_train, epochs=5, batch_size=10)\n",
    "# evaluate the model\n",
    "scores = model.evaluate(X_test, y_test)\n",
    "print(\"\\n%s: %.2f%%\" % (model.metrics_names[1], scores[1]*100))"
   ]
  },
  {
   "cell_type": "code",
   "execution_count": null,
   "metadata": {},
   "outputs": [],
   "source": []
  }
 ],
 "metadata": {
  "kernelspec": {
   "display_name": "Python 3",
   "language": "python",
   "name": "python3"
  },
  "language_info": {
   "codemirror_mode": {
    "name": "ipython",
    "version": 3
   },
   "file_extension": ".py",
   "mimetype": "text/x-python",
   "name": "python",
   "nbconvert_exporter": "python",
   "pygments_lexer": "ipython3",
   "version": "3.6.5"
  }
 },
 "nbformat": 4,
 "nbformat_minor": 2
}
